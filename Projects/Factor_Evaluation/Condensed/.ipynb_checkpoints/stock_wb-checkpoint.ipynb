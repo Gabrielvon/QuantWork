{
 "cells": [
  {
   "cell_type": "markdown",
   "metadata": {},
   "source": [
    "# 因子评测逻辑\n",
    "-----"
   ]
  },
  {
   "cell_type": "code",
   "execution_count": null,
   "metadata": {},
   "outputs": [],
   "source": [
    "import sys, os\n",
    "parent = 'Condensed'\n",
    "maindir = os.getcwd().split(parent)[:-1][0] + parent\n",
    "sys.path.append(maindir)"
   ]
  },
  {
   "cell_type": "code",
   "execution_count": null,
   "metadata": {
    "collapsed": true
   },
   "outputs": [],
   "source": [
    "import pandas as pd\n",
    "import numpy as np\n",
    "import matplotlib.pyplot as plt\n",
    "import scipy.stats as scs\n",
    "from datetime import datetime\n",
    "from itertools import product\n",
    "from IPython.display import clear_output\n",
    "\n",
    "import factor_tester\n",
    "import Factors_class\n",
    "import signal_producer as sp\n",
    "import utility as util\n",
    "\n",
    "plt.interactive(True)"
   ]
  },
  {
   "cell_type": "markdown",
   "metadata": {},
   "source": [
    "## 因子特征处理\n",
    "---\n",
    "1. 数据清洗\n",
    "2. 数据转化"
   ]
  },
  {
   "cell_type": "markdown",
   "metadata": {},
   "source": [
    "### 数据探索"
   ]
  },
  {
   "cell_type": "markdown",
   "metadata": {},
   "source": [
    "* 因子分布"
   ]
  },
  {
   "cell_type": "code",
   "execution_count": null,
   "metadata": {},
   "outputs": [],
   "source": [
    "n_bin = 20\n",
    "ttl_cnt_grp_by_subset = cmb_data_all.groupby('subset')['count'].sum()\n",
    "grp_label = np.digitize(ttl_cnt_grp_by_subset.index, np.linspace(0, ttl_cnt_grp_by_subset.shape[0], n_bin))\n",
    "histogram = ttl_cnt_grp_by_subset.groupby(grp_label).sum().values\n",
    "plt.fill_between(np.linspace(-1, 1, histogram.shape[0]), histogram, step='pre')\n",
    "plt.grid(True)"
   ]
  },
  {
   "cell_type": "markdown",
   "metadata": {},
   "source": [
    "### 数据预处理"
   ]
  },
  {
   "cell_type": "code",
   "execution_count": null,
   "metadata": {},
   "outputs": [],
   "source": [
    "cmb_data_all0 = cmb_data_all.copy()  # save as copy in case\n",
    "cmb_data_all = cmb_data_all0.copy()  # restore copy in case"
   ]
  },
  {
   "cell_type": "markdown",
   "metadata": {},
   "source": [
    "**数据转化**\n",
    "\n",
    "\n",
    "***在该版本中，由于数据被压缩，无法对全局数据进行标准化，暂时不支持标准化功能。建议尽量在生成因子的时候，使得因子分布满足自己的设想。***"
   ]
  },
  {
   "cell_type": "markdown",
   "metadata": {},
   "source": [
    "## 因子评测\n",
    "---"
   ]
  },
  {
   "cell_type": "markdown",
   "metadata": {},
   "source": [
    "**标准输入范例：**\n",
    "* input_data: \n",
    "\n",
    "| 字段属性 | 字段名 | 字段名类型 | 数据类型 |\n",
    "| ---: | :---: | ---: | :---: |\n",
    "|标的代码|code|string| string or object|\n",
    "|时间索引|ts|string| int64 |\n",
    "|映射子集|subset|string| int64|\n",
    "|样本个数|count|string|int64|\n",
    "|因子总和|sum_X|string|float64|\n",
    "|预期周期收益总和|sum_Y|string|float64|\n",
    "|因子平方和|sumsq_X|string|float64|\n",
    "|预期周期收益平方和|sumsq_Y| float64|\n",
    "|因子标准差|std_X|string| float64|\n",
    "|预期周期收益标准差|std_Y|string| float64|\n",
    "\n",
    "其中，$Xr$代表因子（只有一种），$Yr$代表预期收益率的对应周期（可以有n个）。\n",
    "\n",
    "* cmb_data_all是基于使用pycoraldb前提的中间过程变量。如果使用第三方数据来源，需要自己定义input_data，并使input_data的格式与以下一致。"
   ]
  },
  {
   "cell_type": "code",
   "execution_count": null,
   "metadata": {},
   "outputs": [],
   "source": [
    "input_data = cmb_data_all[cmb_data_all['count']>0].reset_index()\n",
    "\n",
    "print 'Size of inputdata:\\n\\n'\n",
    "print input_data.shape\n",
    "print 'Types of data types:\\n\\n'\n",
    "print input_data.dtypes\n",
    "print 'Types of data column names:\\n\\n'\n",
    "print input_data.dtypes\n",
    "print 'Head of inputdata:\\n\\n'\n",
    "print input_data.head()\n",
    "print 'Tail of input_data:\\n\\n'\n",
    "print input_data.tail()"
   ]
  },
  {
   "cell_type": "markdown",
   "metadata": {},
   "source": [
    "**框架初始化**\n",
    "* 输入标准输入\n",
    "* 确定分段段数"
   ]
  },
  {
   "cell_type": "code",
   "execution_count": null,
   "metadata": {},
   "outputs": [],
   "source": [
    "t0 = datetime.now()\n",
    "print 'Now: ', t0\n",
    "ft = factor_tester.factor_tester(input_data, split_num=10)\n",
    "t1 = datetime.now()\n",
    "print 'Timed: ', t1 - t0"
   ]
  },
  {
   "cell_type": "markdown",
   "metadata": {},
   "source": [
    "**因子分布**"
   ]
  },
  {
   "cell_type": "code",
   "execution_count": null,
   "metadata": {},
   "outputs": [],
   "source": [
    "n_bin = 20\n",
    "ttl_cnt_grp_by_subset = cmb_data_all.groupby('subset')['count'].sum()\n",
    "grp_label = np.digitize(ttl_cnt_grp_by_subset.index, np.linspace(0, ttl_cnt_grp_by_subset.shape[0], n_bin))\n",
    "histogram = ttl_cnt_grp_by_subset.groupby(grp_label).sum().values\n",
    "plt.fill_between(np.linspace(-1, 1, histogram.shape[0]), histogram, step='pre')\n",
    "plt.grid(True)"
   ]
  },
  {
   "cell_type": "markdown",
   "metadata": {},
   "source": [
    "**使用说明**\n",
    "  - flag: 1为基于样本总体绝对大小分段， 2为基于样本个体分段后拼接合成；\n",
    "  - 以下函数需在函数中指定周期长度；\n",
    "      - plot_sectional_return\n",
    "      - plot_return_dist\n",
    "      - plot_trades_activity\n",
    "      - plot_sectional_return_seperated\n",
    "  - 以下函数需在函数中指定展示字段；\n",
    "      - plot_res_within_group_seperated\n",
    "  \n",
    "      "
   ]
  },
  {
   "cell_type": "markdown",
   "metadata": {},
   "source": [
    "### 评测结果"
   ]
  },
  {
   "cell_type": "markdown",
   "metadata": {},
   "source": [
    "#### 1、组间表: 对比组间总体情况"
   ]
  },
  {
   "cell_type": "code",
   "execution_count": null,
   "metadata": {},
   "outputs": [],
   "source": [
    "t0 = datetime.now()\n",
    "print 'Now: ', t0\n",
    "g1a = ft.plot_res_between_groups(flag=1)\n",
    "t1 = datetime.now()\n",
    "print 'Timed: ', t1 - t0"
   ]
  },
  {
   "cell_type": "code",
   "execution_count": null,
   "metadata": {},
   "outputs": [],
   "source": [
    "t0 = datetime.now()\n",
    "print 'Now: ', t0\n",
    "g1b = ft.plot_res_between_groups(flag=2)\n",
    "t1 = datetime.now()\n",
    "print 'Timed: ', t1 - t0"
   ]
  },
  {
   "cell_type": "markdown",
   "metadata": {},
   "source": [
    "**说明：该图反应在测试期间内的整体表现**\n",
    "1. IC值越高，说明因子的收益能力越强"
   ]
  },
  {
   "cell_type": "markdown",
   "metadata": {},
   "source": [
    "#### 2、组内表：对比组内分段结果"
   ]
  },
  {
   "cell_type": "markdown",
   "metadata": {},
   "source": [
    "##### 2.1 计数与因子标准差\n",
    "\n",
    "说明：\n",
    "1. compressed_count表示压缩后的各组包含压缩子集的个数；\n",
    "2. overall_count表示各组中包含原始数据的个数；\n",
    "3. std(factor)表示各组中因子的标准差（稳定情况)；"
   ]
  },
  {
   "cell_type": "code",
   "execution_count": null,
   "metadata": {},
   "outputs": [],
   "source": [
    "t0 = datetime.now()\n",
    "print 'Now: ', t0\n",
    "g = ft.plot_factor_among_segment(ft.input_df, 1)\n",
    "t1 = datetime.now()\n",
    "print 'Timed: ', t1 - t0"
   ]
  },
  {
   "cell_type": "code",
   "execution_count": null,
   "metadata": {},
   "outputs": [],
   "source": [
    "t0 = datetime.now()\n",
    "print 'Now: ', t0\n",
    "g = ft.plot_factor_among_segment(ft.input_df, 2)\n",
    "t1 = datetime.now()\n",
    "print 'Timed: ', t1 - t0"
   ]
  },
  {
   "cell_type": "markdown",
   "metadata": {},
   "source": [
    "注意，通过观察以上图形可以发现压缩处理对分组影响的大小。"
   ]
  },
  {
   "cell_type": "markdown",
   "metadata": {},
   "source": [
    "##### 2.2 平均收益、IC与收益标准差\n",
    "\n",
    "说明：\n",
    "1. avgrtn表示各段平均收益率；\n",
    "2. overall_count表示各组中包含原始数据的个数；\n",
    "3. std(factor)表示各组中因子的标准差（稳定情况）；"
   ]
  },
  {
   "cell_type": "code",
   "execution_count": null,
   "metadata": {},
   "outputs": [],
   "source": [
    "t0 = datetime.now()\n",
    "print 'Now: ', t0\n",
    "g2a = ft.plot_res_within_group(flag=1)\n",
    "t1 = datetime.now()\n",
    "print 'Timed: ', t1 - t0"
   ]
  },
  {
   "cell_type": "code",
   "execution_count": null,
   "metadata": {},
   "outputs": [],
   "source": [
    "t0 = datetime.now()\n",
    "print 'Now: ', t0\n",
    "g2b = ft.plot_res_within_group(flag=2)\n",
    "t1 = datetime.now()\n",
    "print 'Timed: ', t1 - t0"
   ]
  },
  {
   "cell_type": "markdown",
   "metadata": {},
   "source": [
    "**说明：该图反应在测试期间内的分段表现**\n",
    "- avgrtn和ic或pearsonr的差异比较大\n",
    "  - 说明样本内亏损或盈利的情况较多，但因子的有效性能仍能被IC或pearsonr值解释，两者没有关系。\n",
    "  - 比如说左起第一段（深蓝色），avgrtn低说明亏损样本在该段内占比较大，绝对值高的正ic说明该段内因子和未来收益正相关且解释程度强。而右起第一段（蓝绿色），avgrtn高说明盈利样本在该段内占比较大，绝对值低的负ic说明该段内因子和未来收益负相关且解释程度弱。\n",
    "- ic和pearsonr\n",
    "  - ic相对pearsonr更加严格\n",
    "- 整体分组和个体分组合并的std相比\n",
    "  - 后者std在各组当中比较一致的原因是后者分组方式使得每段的样本个数都比较多，所以比较稳定。\n",
    "- std(avgrtn)在不同的数据处理方式（flag）与分段(segment)之间是有区别的。"
   ]
  },
  {
   "cell_type": "markdown",
   "metadata": {},
   "source": [
    "#### 3、分组历史每日累计收益"
   ]
  },
  {
   "cell_type": "code",
   "execution_count": null,
   "metadata": {},
   "outputs": [],
   "source": [
    "t0 = datetime.now()\n",
    "print 'Now: ', t0\n",
    "fig3a, ax3a = ft.plot_sectional_return(300, flag=1, tfreq='1d', tformat='%y%m%d', figsize=(15, 7))\n",
    "t1 = datetime.now()\n",
    "print 'Timed: ', t1 - t0"
   ]
  },
  {
   "cell_type": "code",
   "execution_count": null,
   "metadata": {},
   "outputs": [],
   "source": [
    "t0 = datetime.now()\n",
    "print 'Now: ', t0\n",
    "fig3b, ax3b = ft.plot_sectional_return(300, flag=2, tfreq='1d', tformat='%y%m%d', figsize=(15, 7))\n",
    "t1 = datetime.now()\n",
    "print 'Timed: ', t1 - t0"
   ]
  },
  {
   "cell_type": "markdown",
   "metadata": {},
   "source": [
    "**说明**\n",
    "- 按分段顺序递增且分散度越高表示因子显著性越强\n",
    "- 该图与组内表（分段直方统计图）中的avgrtn，ic，pearsonr没有直接联系\n",
    "  - 从该图可以观察出高频因子是否长周期稳定有效，而组内表则看出高频因子整体有效情况。\n",
    "  - 该图是每日平均后，再基于每日平均收益进行累加；而组内表则是直接总体平均。\n",
    "  $ \\frac{r_1 + r_2 + ... + r_n}{d_1 + d_2 + ... + d_n} $ 不一定等于 $ \\frac{r_1}{d_1} + \\frac{r_2}{d_2} + ... + \\frac{r_3}{d_3} $"
   ]
  },
  {
   "cell_type": "markdown",
   "metadata": {},
   "source": [
    "#### 4、分组历史收益分布"
   ]
  },
  {
   "cell_type": "markdown",
   "metadata": {},
   "source": [
    "**说明**\n",
    "- 图注：\n",
    "    - 填充的方形的横线，从上至下分别表示75%,50%,25%分位点，其中50%的分位点可能与75%或25%的先重合\n",
    "    - 三角形表示样本均值\n",
    "    - 填充的方形以外的横线，表示样本均值上下浮动3个标准差的值\n",
    "- 该图忽略了异常值，异常值为两段横线以外的值。横线分别为10%和90%的分位点。\n",
    "- 该图可以看作是组内表中avgrtn的延展，除了表示了平均值，还表示了分位点(25%, 50%, 75%）和置信区间（n个标准差）"
   ]
  },
  {
   "cell_type": "code",
   "execution_count": null,
   "metadata": {},
   "outputs": [],
   "source": [
    "t0 = datetime.now()\n",
    "print 'Now: ', t0\n",
    "fig4a, ax4a = ft.plot_return_dist(30, flag=1, kind='box')\n",
    "t1 = datetime.now()\n",
    "print 'Timed: ', t1 - t0"
   ]
  },
  {
   "cell_type": "code",
   "execution_count": null,
   "metadata": {},
   "outputs": [],
   "source": [
    "t0 = datetime.now()\n",
    "print 'Now: ', t0\n",
    "fig4b, ax4b = ft.plot_return_dist(30, flag=2, kind='box')\n",
    "t1 = datetime.now()\n",
    "print 'Timed: ', t1 - t0"
   ]
  },
  {
   "cell_type": "markdown",
   "metadata": {},
   "source": [
    "#### 5、每日交易活跃程度"
   ]
  },
  {
   "cell_type": "markdown",
   "metadata": {},
   "source": [
    "**说明**\n",
    "1. 纵坐标为每天的有效样本个数，颜色代表数量程度。"
   ]
  },
  {
   "cell_type": "code",
   "execution_count": null,
   "metadata": {},
   "outputs": [],
   "source": [
    "t0 = datetime.now()\n",
    "print 'Now: ', t0\n",
    "g5a = ft.plot_trades_activity(30, flag=1)\n",
    "t1 = datetime.now()\n",
    "print 'Timed: ', t1 - t0"
   ]
  },
  {
   "cell_type": "code",
   "execution_count": null,
   "metadata": {},
   "outputs": [],
   "source": [
    "t0 = datetime.now()\n",
    "print 'Now: ', t0\n",
    "g5a = ft.plot_trades_activity(30, flag=1)\n",
    "t1 = datetime.now()\n",
    "print 'Timed: ', t1 - t0"
   ]
  },
  {
   "cell_type": "markdown",
   "metadata": {},
   "source": [
    "如果观察到交易次数异常多的点，可以通过一下方式把具体日期找出来。可定义异常程度，默认sigma=3。\n",
    "```python\n",
    "abn_dates = ft.get_abnormal_dates(sigma=3)  # ft.plot_trades_activity must be run before.\n",
    "t11 = time.clock()\n",
    "print abn_dates\n",
    "```"
   ]
  },
  {
   "cell_type": "markdown",
   "metadata": {},
   "source": [
    "#### 6、基于用户定义的样本组合的因子表现（可选）\n",
    "- 这一部分属于细分评测，根据用户需求视情况而定。\n",
    "- 在以下但不限于情况，可能需要运行这一部分进一步评测。\n",
    "    - 该因子并不是全市场或全品种有效的，需要进一步研究因子适用对象。\n",
    "    - 该因子只在满足一定条件下的标的有效，如成交量大的，主力多的或股东持仓期长的。\n",
    "- 使用条件：需要有明确的逻辑对样本进行分组。\n",
    "- 为了展示，Demo里使用的是随机抽样分组。"
   ]
  },
  {
   "cell_type": "markdown",
   "metadata": {},
   "source": [
    "##### 6.1 用户自定义分组"
   ]
  },
  {
   "cell_type": "markdown",
   "metadata": {},
   "source": [
    "###### 6.1.1 根据行业分组"
   ]
  },
  {
   "cell_type": "raw",
   "metadata": {},
   "source": [
    "gm = test_sample_df.groupby('IndusCode').groups\n",
    "group_map = {nk[2:] + '.' + nk[:2]:k for k, v in gm.iteritems() for nk in v.tolist()}"
   ]
  },
  {
   "cell_type": "markdown",
   "metadata": {},
   "source": [
    "###### 6.1.2 根据市值大小排序分组"
   ]
  },
  {
   "cell_type": "raw",
   "metadata": {},
   "source": [
    "val = test_sample_df.reset_index()[['Circulating', 'index']]\n",
    "gd, gb, gn = util.split_data(val.values, 5, 1)\n",
    "# gd, gb, gn = util.split_data(val.values, 5, 2)\n",
    "val['grp'] = gn\n",
    "group_map = {k[2:] + '.' + k[:2]: v for k, v in val[['index', 'grp']].values}"
   ]
  },
  {
   "cell_type": "markdown",
   "metadata": {},
   "source": [
    "###### 6.1.3 随机分组"
   ]
  },
  {
   "cell_type": "raw",
   "metadata": {},
   "source": [
    "import random\n",
    "ngrp = 6\n",
    "val = test_sample_df.reset_index()[['Circulating', 'index']]\n",
    "random_idx = random.sample(range(51), 51)\n",
    "grp_idx = list(np.repeat(np.arange(ngrp), len(val)/ngrp)) + [ngrp]*(len(val)%ngrp)\n",
    "val['grp'] = pd.Series(grp_idx, index=random_idx, name='grp')\n",
    "group_map = {k[2:] + '.' + k[:2]: v for k, v in val[['index', 'grp']].values}"
   ]
  },
  {
   "cell_type": "code",
   "execution_count": null,
   "metadata": {},
   "outputs": [],
   "source": [
    "###### 6.1.4 自定义组别"
   ]
  },
  {
   "cell_type": "code",
   "execution_count": null,
   "metadata": {},
   "outputs": [],
   "source": [
    "n = 5 # number of groups\n",
    "group_map = {co: i for i in range(len(ft.codes)/n) for co in ft.codes[i*n:(i+1)*n]}\n",
    "rest_codes = {co: max(group_map.values())+1 for co in ft.codes[~np.isin(ft.codes, group_map.keys())]}\n",
    "group_map.update(rest_codes)"
   ]
  },
  {
   "cell_type": "code",
   "execution_count": null,
   "metadata": {},
   "outputs": [],
   "source": [
    "###### 6.1.4 初始化分组功能"
   ]
  },
  {
   "cell_type": "code",
   "execution_count": null,
   "metadata": {},
   "outputs": [],
   "source": [
    "t0 = datetime.now()\n",
    "ft.plot_seperated(regroup=group_map)\n",
    "t1 = datetime.now()\n",
    "print 'Now: ', t1\n",
    "print 'Timed: ', t1 - t0\n",
    "print 'Group status: \\n', ft.input_df2[['code', 'user_grp']].drop_duplicates().groupby('user_grp').count()"
   ]
  },
  {
   "cell_type": "code",
   "execution_count": null,
   "metadata": {},
   "outputs": [],
   "source": [
    "##### 6.2 画图"
   ]
  },
  {
   "cell_type": "code",
   "execution_count": null,
   "metadata": {},
   "outputs": [],
   "source": [
    "###### 6.2.1 整体情况"
   ]
  },
  {
   "cell_type": "code",
   "execution_count": null,
   "metadata": {},
   "outputs": [],
   "source": [
    "t0 = datetime.now()\n",
    "print 'Now: ', t0\n",
    "g61a = ft.plot_res_between_groups_seperated(flag=1)\n",
    "t1 = datetime.now()\n",
    "print 'Timed: ', t1 - t0"
   ]
  },
  {
   "cell_type": "code",
   "execution_count": null,
   "metadata": {},
   "outputs": [],
   "source": [
    "t0 = datetime.now()\n",
    "print 'Now: ', t0\n",
    "g61b = ft.plot_res_between_groups_seperated(flag=2)\n",
    "t1 = datetime.now()\n",
    "print 'Timed: ', t1 - t0"
   ]
  },
  {
   "cell_type": "code",
   "execution_count": null,
   "metadata": {},
   "outputs": [],
   "source": [
    "ft.plot_factor_among_segment_seperated(1)"
   ]
  },
  {
   "cell_type": "code",
   "execution_count": null,
   "metadata": {},
   "outputs": [],
   "source": [
    "ft.plot_factor_among_segment_seperated(2)"
   ]
  },
  {
   "cell_type": "code",
   "execution_count": null,
   "metadata": {},
   "outputs": [],
   "source": [
    "###### 6.2.2 因子分段的直方统计图"
   ]
  },
  {
   "cell_type": "code",
   "execution_count": null,
   "metadata": {},
   "outputs": [],
   "source": [
    "t0 = datetime.now()\n",
    "print 'Now: ', t0\n",
    "g62a = ft.plot_res_within_group_seperated(flag=1, res_type='avgrtn')\n",
    "t1 = datetime.now()\n",
    "print 'Timed: ', t1 - t0"
   ]
  },
  {
   "cell_type": "code",
   "execution_count": null,
   "metadata": {},
   "outputs": [],
   "source": [
    "t0 = datetime.now()\n",
    "print 'Now: ', t0\n",
    "g62b = ft.plot_res_within_group_seperated(flag=2, res_type='avgrtn')\n",
    "t1 = datetime.now()\n",
    "print 'Timed: ', t1 - t0"
   ]
  },
  {
   "cell_type": "code",
   "execution_count": null,
   "metadata": {},
   "outputs": [],
   "source": [
    "###### 6.2.3 因子分段的累积收益表现"
   ]
  },
  {
   "cell_type": "code",
   "execution_count": null,
   "metadata": {},
   "outputs": [],
   "source": [
    "t0 = datetime.now()\n",
    "print 'Now: ', t0\n",
    "g63a = ft.plot_sectional_return_seperated(flag=1)\n",
    "t1 = datetime.now()\n",
    "print 'Timed: ', t1 - t0"
   ]
  },
  {
   "cell_type": "code",
   "execution_count": null,
   "metadata": {},
   "outputs": [],
   "source": [
    "t0 = datetime.now()\n",
    "print 'Now: ', t0\n",
    "g63b = ft.plot_sectional_return_seperated(flag=2)\n",
    "t1 = datetime.now()\n",
    "print 'Timed: ', t1 - t0"
   ]
  },
  {
   "cell_type": "code",
   "execution_count": null,
   "metadata": {},
   "outputs": [],
   "source": [
    "print 'Completed'"
   ]
  },
  {
   "cell_type": "markdown",
   "metadata": {},
   "source": [
    "## Overall Results"
   ]
  },
  {
   "cell_type": "raw",
   "metadata": {},
   "source": []
  },
  {
   "cell_type": "markdown",
   "metadata": {},
   "source": [
    "## Inspection"
   ]
  },
  {
   "cell_type": "raw",
   "metadata": {},
   "source": []
  }
 ],
 "metadata": {
  "kernelspec": {
   "display_name": "Python 3",
   "language": "python",
   "name": "python3"
  },
  "language_info": {
   "codemirror_mode": {
    "name": "ipython",
    "version": 3
   },
   "file_extension": ".py",
   "mimetype": "text/x-python",
   "name": "python",
   "nbconvert_exporter": "python",
   "pygments_lexer": "ipython3",
   "version": "3.6.5"
  }
 },
 "nbformat": 4,
 "nbformat_minor": 2
}
