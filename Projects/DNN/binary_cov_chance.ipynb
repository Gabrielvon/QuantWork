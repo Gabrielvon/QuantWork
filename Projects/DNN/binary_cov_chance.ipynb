{
 "cells": [
  {
   "cell_type": "code",
   "execution_count": 1,
   "metadata": {},
   "outputs": [],
   "source": [
    "# -*- coding: utf-8 -*-\n",
    "\n",
    "from __context__ import *\n",
    "from __future__ import print_function, unicode_literals, division\n",
    "\n",
    "import pandas as pd\n",
    "import numpy as np\n",
    "import time\n",
    "from datetime import datetime\n",
    "import matplotlib.pyplot as plt\n",
    "import tensorflow as tf\n",
    "import tensorlayer as tl\n",
    "from IPython.core.display import clear_output\n",
    "\n",
    "sess = None"
   ]
  },
  {
   "cell_type": "code",
   "execution_count": 2,
   "metadata": {},
   "outputs": [],
   "source": [
    "def get_data_delta(df, lookforward=5):\n",
    "    op, hi, lo, cl, pre_cl = df[['open', 'high', 'low', 'new_price', 'pre_close']].values.T\n",
    "    d_arr = np.stack([op, hi, lo, cl], 1)\n",
    "    d_arr = ((d_arr/pre_cl.reshape(-1, 1) - 1) * 1000).astype(int) + 100\n",
    "    d_oc = (d_arr[:, 3] - d_arr[:, 0]).reshape(-1, 1)\n",
    "    expr = np.full(d_oc.shape, np.nan)\n",
    "    expr[:-lookforward, 0] = cl[lookforward:] / cl[:-lookforward] - 1\n",
    "    out_df = pd.DataFrame(np.hstack([d_arr, d_oc]), index=df.index, \n",
    "                          columns=['d_open', 'd_high', 'd_low', 'd_close', 'd_oc'])\n",
    "    out_df.loc[:, 'expr03'] = expr\n",
    "    return out_df.dropna()\n",
    "\n",
    "def compile_data(data_d):\n",
    "    channel_1 = np.zeros(shape=(data_d.shape[0], 201))\n",
    "    channel_2 = np.zeros(shape=(data_d.shape[0], 201))\n",
    "    idx_begin = np.arange(data_d.shape[0]) * 201\n",
    "\n",
    "    lb1 = data_d[['d_open', 'd_close']].min(1).values\n",
    "    ub1 = data_d[['d_open', 'd_close']].max(1).values + 1\n",
    "    channel_1 = np.zeros(shape=(data_d.shape[0], 201))\n",
    "    idx_to_fill_chan1 = [np.arange(begi, endi) for begi, endi in zip(idx_begin + lb1, idx_begin + ub1)]\n",
    "    np.put(channel_1, np.hstack(idx_to_fill_chan1), 1)\n",
    "\n",
    "    lb2 = data_d['d_low'].values\n",
    "    ub2 = data_d['d_high'].values + 1\n",
    "    channel_2 = np.zeros(shape=(data_d.shape[0], 201))\n",
    "    idx_to_fill_chan2 = [np.arange(begi, endi) for begi, endi in zip(idx_begin + lb2, idx_begin + ub2)]\n",
    "    np.put(channel_2, np.hstack(idx_to_fill_chan2), 1)\n",
    "\n",
    "    features = np.stack((channel_1, channel_2), axis=-1)\n",
    "    # print('feature shape', features.shape)\n",
    "    return features\n",
    "\n",
    "def rolling_window(a, window):\n",
    "    shape = a.shape[:-1] + (a.shape[-1] - window + 1, window)\n",
    "    strides = a.strides + (a.strides[-1],)\n",
    "    return np.lib.stride_tricks.as_strided(a, shape=shape, strides=strides)\n",
    "\n",
    "def get_data_batch_2d(features, ys, time_step):\n",
    "    features_T = features.transpose((1, 2, 0))\n",
    "    features_T_rol = rolling_window(features_T, time_step)\n",
    "    data_x = features_T_rol.transpose(2, 3, 0, 1)\n",
    "    data_y = ys[time_step-1:]\n",
    "    return np.array(data_x), np.array(data_y)\n",
    "\n",
    "def get_training_data(quota, batch_size=100, period_step=20, predict_period=5):\n",
    "    data2 = quota.copy()\n",
    "    predict_data2 = get_data_delta(data2, lookforward=predict_period)\n",
    "\n",
    "    predict_features2 = compile_data(predict_data2)\n",
    "    _ys2 = predict_data2.loc[:, 'expr03'].values\n",
    "    predict_x2, predict_dump2 = get_data_batch_2d(predict_features2, _ys2, period_step)\n",
    "    rest = batch_size - (predict_x2.shape[0] % batch_size)\n",
    "    # print('predict_x:', predict_x2.shape)\n",
    "\n",
    "    predict_x2 = np.concatenate([predict_x2, predict_x2[:rest]])\n",
    "    predict_dump2 = np.concatenate([predict_dump2, predict_dump2[:rest]])\n",
    "    return predict_x2, predict_dump2"
   ]
  },
  {
   "cell_type": "markdown",
   "metadata": {},
   "source": [
    "## 构建数据"
   ]
  },
  {
   "cell_type": "markdown",
   "metadata": {},
   "source": [
    "## 获取行情"
   ]
  },
  {
   "cell_type": "code",
   "execution_count": 3,
   "metadata": {},
   "outputs": [],
   "source": [
    "begdate = 20160601\n",
    "enddate = 20180601\n",
    "code = '000002.SZ'\n",
    "predict_period=5\n",
    "\n",
    "DB = gcrl.db('internal')\n",
    "DB.query_init({'code': code, 'begin': begdate, 'end': enddate, 'fields': '*'})\n",
    "DB.query.update({'dtype':'cycle', 'n_cycle': 1, 'freq': pycoraldb.D})\n",
    "rawdf = DB.getBar(4)\n",
    "rawdf['close'] = rawdf['new_price'].copy()\n",
    "# rawdf = db.getBar(code, 20180501, 20180601).toDataFrame()\n",
    "# gclean = gfc.clean_rdata(rawdf)\n",
    "# clean_df = gclean.remove_by_time('stock')"
   ]
  },
  {
   "cell_type": "code",
   "execution_count": 4,
   "metadata": {},
   "outputs": [
    {
     "name": "stdout",
     "output_type": "stream",
     "text": [
      "52.5 ms ± 211 µs per loop (mean ± std. dev. of 7 runs, 10 loops each)\n"
     ]
    }
   ],
   "source": [
    "%timeit get_training_data(rawdf, 100, 20, 5)"
   ]
  },
  {
   "cell_type": "code",
   "execution_count": 5,
   "metadata": {},
   "outputs": [
    {
     "name": "stdout",
     "output_type": "stream",
     "text": [
      "训练集x (400, 20, 201, 2)\n",
      "测试集x (100, 20, 201, 2)\n",
      "总共x 500\n"
     ]
    }
   ],
   "source": [
    "# 将data_d乱序后拆分成trainning_set和test_set, 按80%分位拆分\n",
    "# data_t=np.random.shuffle(data_t)\n",
    "data_x, data_y = get_training_data(rawdf, 100, 20, 5)\n",
    "\n",
    "training_count = int(data_x.shape[0] * 0.8)\n",
    "test_count = data_x.shape[0] - training_count\n",
    "\n",
    "training_x = data_x[:training_count]\n",
    "training_y = data_y[:training_count]\n",
    "test_x = data_x[training_count:]\n",
    "test_y = data_y[training_count:]\n",
    "\n",
    "print('训练集x', training_x.shape)\n",
    "print('测试集x', test_x.shape)\n",
    "print('总共x', data_x.shape[0])\n",
    "assert(training_x.shape[0] + test_x.shape[0] == data_x.shape[0])"
   ]
  },
  {
   "cell_type": "raw",
   "metadata": {},
   "source": [
    "np.save('/root/notebook/Workspace/colv_nn/temp/train_x2.npy', training_x, allow_pickle=False)\n",
    "np.save('/root/notebook/Workspace/colv_nn/temp/train_y2.npy', training_y, allow_pickle=False)\n",
    "np.save('/root/notebook/Workspace/colv_nn/temp/test_x2.npy', test_x, allow_pickle=False)\n",
    "np.save('/root/notebook/Workspace/colv_nn/temp/test_y2.npy', test_y, allow_pickle=False)\n"
   ]
  },
  {
   "cell_type": "raw",
   "metadata": {},
   "source": [
    "X_train = np.load('/root/notebook/Workspace/colv_nn/temp/train_x2.npy')\n",
    "y_train = np.load('/root/notebook/Workspace/colv_nn/temp/train_y2.npy')\n",
    "X_test = np.load('/root/notebook/Workspace/colv_nn/temp/test_x2.npy')\n",
    "y_test = np.load('/root/notebook/Workspace/colv_nn/temp/test_y2.npy')\n",
    "\n",
    "\n",
    "#设置条件\n",
    "\n",
    "#y_test=(test_y>0.02).astype(int)"
   ]
  },
  {
   "cell_type": "code",
   "execution_count": 6,
   "metadata": {},
   "outputs": [],
   "source": [
    "X_train, y_train, X_test, y_test  = training_x.copy(), training_y.copy(), test_x.copy(), test_y.copy()"
   ]
  },
  {
   "cell_type": "code",
   "execution_count": 7,
   "metadata": {},
   "outputs": [],
   "source": [
    "y_train = np.where(y_train > 0.03, 1, np.where(y_train < -0.02, 2, 0)).astype(int)\n",
    "y_test = np.where(y_test > 0.03, 1, np.where(y_test < -0.02, 2, 0)).astype(int)"
   ]
  },
  {
   "cell_type": "code",
   "execution_count": 8,
   "metadata": {},
   "outputs": [
    {
     "data": {
      "text/plain": [
       "array([0, 2, 2, 2, 0, 0, 1, 1, 0, 2, 0, 2, 2, 2, 2, 2, 2, 2, 2, 0])"
      ]
     },
     "execution_count": 8,
     "metadata": {},
     "output_type": "execute_result"
    }
   ],
   "source": [
    "y_test[:20]"
   ]
  },
  {
   "cell_type": "code",
   "execution_count": 9,
   "metadata": {},
   "outputs": [],
   "source": [
    "def model(x, is_train=True, reuse=False):\n",
    "    # In BNN, all the layers inputs are binary, with the exception of the first layer.\n",
    "    # ref: https://github.com/itayhubara/BinaryNet.tf/blob/master/models/BNN_cifar10.py\n",
    "    with tf.variable_scope(\"binarynet\", reuse=reuse):\n",
    "        \n",
    "        net = tl.layers.InputLayer(x, name='input')\n",
    "        \n",
    "        net = tl.layers.BinaryConv2d(net, 32, (5, 5), (1, 1),\n",
    "                                     padding='SAME', b_init=None, name='bcnn1')\n",
    "        net = tl.layers.MaxPool2d(net, (2, 2), (2, 2), padding='SAME', name='pool1')\n",
    "        net = tl.layers.BatchNormLayer(net, act=tl.act.htanh, is_train=is_train, name='bn1')\n",
    "\n",
    "        # net = tl.layers.SignLayer(net)\n",
    "        net = tl.layers.BinaryConv2d(net, 64, (5, 5), (1, 1),\n",
    "                                     padding='SAME', b_init=None, name='bcnn2')\n",
    "        net = tl.layers.MaxPool2d(net, (2, 2), (2, 2), padding='SAME', name='pool2')\n",
    "        net = tl.layers.BatchNormLayer(net, act=tl.act.htanh, is_train=is_train, name='bn2')\n",
    "\n",
    "        net = tl.layers.FlattenLayer(net)\n",
    "        # net = tl.layers.DropoutLayer(net, 0.8, True, is_train, name='drop1')\n",
    "        # net = tl.layers.SignLayer(net)\n",
    "        net = tl.layers.BinaryDenseLayer(net, 201, b_init=None, name='dense')\n",
    "        net = tl.layers.BatchNormLayer(net, act=tl.act.htanh, is_train=is_train, name='bn3')\n",
    "\n",
    "        # net = tl.layers.DropoutLayer(net, 0.8, True, is_train, name='drop2')\n",
    "        # net = tl.layers.SignLayer(net)\n",
    "        net = tl.layers.BinaryDenseLayer(net, 3, b_init=None, name='bout')\n",
    "        net = tl.layers.BatchNormLayer(net, is_train=is_train, name='bno')\n",
    "    return net"
   ]
  },
  {
   "cell_type": "code",
   "execution_count": 10,
   "metadata": {},
   "outputs": [],
   "source": [
    "sess = None\n",
    "if sess == None:\n",
    "    sess = tf.InteractiveSession()\n",
    "elif sess._closed == False:\n",
    "    tf.reset_default_graph()\n",
    "    sess.close()\n",
    "    sess = tf.InteractiveSession()"
   ]
  },
  {
   "cell_type": "code",
   "execution_count": 11,
   "metadata": {},
   "outputs": [
    {
     "name": "stderr",
     "output_type": "stream",
     "text": [
      "[TL] InputLayer  binarynet/input: (100, 20, 201, 2)\n",
      "[TL] BinaryConv2d bcnn1: n_filter:32 filter_size:(5, 5) strides:(1, 1) pad:SAME act:identity\n",
      "[TL] MaxPool2d pool1: filter_size:(2, 2) strides:(2, 2) padding:SAME\n",
      "[TL] BatchNormLayer bn1: decay:0.900000 epsilon:0.000010 act:hard_tanh is_train:True\n",
      "[TL] BinaryConv2d bcnn2: n_filter:64 filter_size:(5, 5) strides:(1, 1) pad:SAME act:identity\n",
      "[TL] MaxPool2d pool2: filter_size:(2, 2) strides:(2, 2) padding:SAME\n",
      "[TL] BatchNormLayer bn2: decay:0.900000 epsilon:0.000010 act:hard_tanh is_train:True\n",
      "[TL] FlattenLayer binarynet/flatten: 16320\n",
      "[TL] BinaryDenseLayer  dense: 201 identity\n",
      "[TL] BatchNormLayer bn3: decay:0.900000 epsilon:0.000010 act:hard_tanh is_train:True\n",
      "[TL] BinaryDenseLayer  bout: 3 identity\n",
      "[TL] BatchNormLayer bno: decay:0.900000 epsilon:0.000010 act:identity is_train:True\n",
      "[TL] InputLayer  binarynet/input: (100, 20, 201, 2)\n",
      "[TL] BinaryConv2d bcnn1: n_filter:32 filter_size:(5, 5) strides:(1, 1) pad:SAME act:identity\n",
      "[TL] MaxPool2d pool1: filter_size:(2, 2) strides:(2, 2) padding:SAME\n",
      "[TL] BatchNormLayer bn1: decay:0.900000 epsilon:0.000010 act:hard_tanh is_train:False\n",
      "[TL] BinaryConv2d bcnn2: n_filter:64 filter_size:(5, 5) strides:(1, 1) pad:SAME act:identity\n",
      "[TL] MaxPool2d pool2: filter_size:(2, 2) strides:(2, 2) padding:SAME\n",
      "[TL] BatchNormLayer bn2: decay:0.900000 epsilon:0.000010 act:hard_tanh is_train:False\n",
      "[TL] FlattenLayer binarynet/flatten: 16320\n",
      "[TL] BinaryDenseLayer  dense: 201 identity\n",
      "[TL] BatchNormLayer bn3: decay:0.900000 epsilon:0.000010 act:hard_tanh is_train:False\n",
      "[TL] BinaryDenseLayer  bout: 3 identity\n",
      "[TL] BatchNormLayer bno: decay:0.900000 epsilon:0.000010 act:identity is_train:False\n"
     ]
    }
   ],
   "source": [
    "# define inferences\n",
    "batch_size = 100\n",
    "x = tf.placeholder(tf.float32, shape=[batch_size, 20, 201, 2])\n",
    "y_ = tf.placeholder(tf.int64, shape=[batch_size])\n",
    "net_train = model(x, is_train=True, reuse=False)\n",
    "net_test = model(x, is_train=False, reuse=True)"
   ]
  },
  {
   "cell_type": "code",
   "execution_count": 12,
   "metadata": {},
   "outputs": [
    {
     "name": "stderr",
     "output_type": "stream",
     "text": [
      "[TL]   [*] geting variables with binarynet\n",
      "[TL]   got   0: binarynet/bcnn1/W_conv2d:0   (5, 5, 2, 32)\n",
      "[TL]   got   1: binarynet/bn1/beta:0   (32,)\n",
      "[TL]   got   2: binarynet/bn1/gamma:0   (32,)\n",
      "[TL]   got   3: binarynet/bcnn2/W_conv2d:0   (5, 5, 32, 64)\n",
      "[TL]   got   4: binarynet/bn2/beta:0   (64,)\n",
      "[TL]   got   5: binarynet/bn2/gamma:0   (64,)\n",
      "[TL]   got   6: binarynet/dense/W:0   (16320, 201)\n",
      "[TL]   got   7: binarynet/bn3/beta:0   (201,)\n",
      "[TL]   got   8: binarynet/bn3/gamma:0   (201,)\n",
      "[TL]   got   9: binarynet/bout/W:0   (201, 3)\n",
      "[TL]   got  10: binarynet/bno/beta:0   (3,)\n",
      "[TL]   got  11: binarynet/bno/gamma:0   (3,)\n"
     ]
    }
   ],
   "source": [
    "# cost for training\n",
    "y = net_train.outputs\n",
    "cost = tl.cost.cross_entropy(y, y_, name='xentropy')\n",
    "\n",
    "# cost and accuracy for evalution\n",
    "y2 = net_test.outputs\n",
    "prediction = tf.argmax(y2, 1)\n",
    "\n",
    "cost_test = tl.cost.cross_entropy(y2, y_, name='xentropy2')\n",
    "correct_prediction = tf.equal(tf.argmax(y2, 1), y_)\n",
    "acc = tf.reduce_mean(tf.cast(correct_prediction, tf.float32))\n",
    "\n",
    "# define the optimizer\n",
    "train_params = tl.layers.get_variables_with_name('binarynet', True, True)\n",
    "train_op = tf.train.AdamOptimizer(learning_rate=0.0001).minimize(cost, var_list=train_params)\n",
    "\n",
    "# initialize all variables in the session\n",
    "tl.layers.initialize_global_variables(sess)"
   ]
  },
  {
   "cell_type": "code",
   "execution_count": 13,
   "metadata": {},
   "outputs": [
    {
     "name": "stderr",
     "output_type": "stream",
     "text": [
      "[TL]   param   0: binarynet/bcnn1/Sign:0 (5, 5, 2, 32)      float32 (mean: 0.0062500000931322575, median: 1.0               , std: 0.9999804496765137)   \n",
      "[TL]   param   1: binarynet/bn1/beta:0 (32,)              float32_ref (mean: 0.0               , median: 0.0               , std: 0.0               )   \n",
      "[TL]   param   2: binarynet/bn1/gamma:0 (32,)              float32_ref (mean: 1.000664234161377 , median: 1.0007848739624023, std: 0.0020025421399623156)   \n",
      "[TL]   param   3: binarynet/bn1/moving_mean:0 (32,)              float32_ref (mean: 0.0               , median: 0.0               , std: 0.0               )   \n",
      "[TL]   param   4: binarynet/bn1/moving_variance:0 (32,)              float32_ref (mean: 1.0               , median: 1.0               , std: 0.0               )   \n",
      "[TL]   param   5: binarynet/bcnn2/Sign:0 (5, 5, 32, 64)     float32 (mean: -0.0033593750558793545, median: -1.0              , std: 0.9999943375587463)   \n",
      "[TL]   param   6: binarynet/bn2/beta:0 (64,)              float32_ref (mean: 0.0               , median: 0.0               , std: 0.0               )   \n",
      "[TL]   param   7: binarynet/bn2/gamma:0 (64,)              float32_ref (mean: 0.9999029040336609, median: 0.9995929002761841, std: 0.0019524773815646768)   \n",
      "[TL]   param   8: binarynet/bn2/moving_mean:0 (64,)              float32_ref (mean: 0.0               , median: 0.0               , std: 0.0               )   \n",
      "[TL]   param   9: binarynet/bn2/moving_variance:0 (64,)              float32_ref (mean: 1.0               , median: 1.0               , std: 0.0               )   \n",
      "[TL]   param  10: binarynet/dense/Sign:0 (16320, 201)       float32 (mean: 3.658179775811732e-05, median: 1.0               , std: 1.0               )   \n",
      "[TL]   param  11: binarynet/bn3/beta:0 (201,)             float32_ref (mean: 0.0               , median: 0.0               , std: 0.0               )   \n",
      "[TL]   param  12: binarynet/bn3/gamma:0 (201,)             float32_ref (mean: 0.9999309182167053, median: 1.0000574588775635, std: 0.0019451359985396266)   \n",
      "[TL]   param  13: binarynet/bn3/moving_mean:0 (201,)             float32_ref (mean: 0.0               , median: 0.0               , std: 0.0               )   \n",
      "[TL]   param  14: binarynet/bn3/moving_variance:0 (201,)             float32_ref (mean: 1.0               , median: 1.0               , std: 0.0               )   \n",
      "[TL]   param  15: binarynet/bout/Sign:0 (201, 3)           float32 (mean: 0.04809286817908287, median: 1.0               , std: 0.9988427758216858)   \n",
      "[TL]   param  16: binarynet/bno/beta:0 (3,)               float32_ref (mean: 0.0               , median: 0.0               , std: 0.0               )   \n",
      "[TL]   param  17: binarynet/bno/gamma:0 (3,)               float32_ref (mean: 1.000035285949707 , median: 1.0003682374954224, std: 0.0007179148960858583)   \n",
      "[TL]   param  18: binarynet/bno/moving_mean:0 (3,)               float32_ref (mean: 0.0               , median: 0.0               , std: 0.0               )   \n",
      "[TL]   param  19: binarynet/bno/moving_variance:0 (3,)               float32_ref (mean: 1.0               , median: 1.0               , std: 0.0               )   \n",
      "[TL]   num of params: 3334923\n"
     ]
    }
   ],
   "source": [
    "net_train.print_params()"
   ]
  },
  {
   "cell_type": "code",
   "execution_count": 14,
   "metadata": {},
   "outputs": [
    {
     "name": "stderr",
     "output_type": "stream",
     "text": [
      "[TL]   layer   0: binarynet/bcnn1/Identity:0 (100, 20, 201, 32)    float32\n",
      "[TL]   layer   1: binarynet/pool1/MaxPool:0 (100, 10, 101, 32)    float32\n",
      "[TL]   layer   2: binarynet/bn1/htanh:0 (100, 10, 101, 32)    float32\n",
      "[TL]   layer   3: binarynet/bcnn2/Identity:0 (100, 10, 101, 64)    float32\n",
      "[TL]   layer   4: binarynet/pool2/MaxPool:0 (100, 5, 51, 64)    float32\n",
      "[TL]   layer   5: binarynet/bn2/htanh:0 (100, 5, 51, 64)    float32\n",
      "[TL]   layer   6: binarynet/flatten:0  (100, 16320)       float32\n",
      "[TL]   layer   7: binarynet/dense/Identity:0 (100, 201)         float32\n",
      "[TL]   layer   8: binarynet/bn3/htanh:0 (100, 201)         float32\n",
      "[TL]   layer   9: binarynet/bout/Identity:0 (100, 3)           float32\n",
      "[TL]   layer  10: binarynet/bno/Identity_2:0 (100, 3)           float32\n"
     ]
    }
   ],
   "source": [
    "net_train.print_layers()"
   ]
  },
  {
   "cell_type": "code",
   "execution_count": 15,
   "metadata": {},
   "outputs": [
    {
     "name": "stdout",
     "output_type": "stream",
     "text": [
      "Epoch 1 of 6 took 1.476719s\n",
      "   train loss: 1.943280\n",
      "   train acc: 0.395000\n",
      "Evaluation\n",
      "   test loss: 1.899667\n",
      "   test acc: 0.410000\n",
      "Epoch 2 of 6 took 1.387363s\n",
      "   train loss: 1.307864\n",
      "   train acc: 0.482500\n",
      "Evaluation\n",
      "   test loss: 1.716011\n",
      "   test acc: 0.390000\n",
      "Epoch 3 of 6 took 1.360507s\n",
      "   train loss: 0.971322\n",
      "   train acc: 0.570000\n",
      "Evaluation\n",
      "   test loss: 1.486111\n",
      "   test acc: 0.370000\n",
      "Epoch 4 of 6 took 1.387788s\n",
      "   train loss: 0.785417\n",
      "   train acc: 0.660000\n",
      "Evaluation\n",
      "   test loss: 1.362435\n",
      "   test acc: 0.420000\n",
      "Epoch 5 of 6 took 1.364962s\n",
      "   train loss: 0.657602\n",
      "   train acc: 0.745000\n",
      "Evaluation\n",
      "   test loss: 1.152467\n",
      "   test acc: 0.510000\n",
      "Epoch 6 of 6 took 1.363694s\n",
      "   train loss: 0.600923\n",
      "   train acc: 0.820000\n",
      "Evaluation\n",
      "   test loss: 1.137552\n",
      "   test acc: 0.510000\n",
      "Evaluation\n",
      "   test loss: 1.137552\n",
      "   test acc: 0.510000\n"
     ]
    }
   ],
   "source": [
    "n_epoch = 6\n",
    "\n",
    "# print(sess.run(net_test.all_params)) # print real values of parameters\n",
    "for epoch in range(n_epoch):\n",
    "    start_time = time.time()\n",
    "    for X_train_a, y_train_a in tl.iterate.minibatches(X_train, y_train, batch_size, shuffle=True):\n",
    "        sess.run(train_op, feed_dict={x: X_train_a, y_: y_train_a})\n",
    "\n",
    "    if True:\n",
    "        print(\"Epoch %d of %d took %fs\" % (epoch + 1, n_epoch, time.time() - start_time))\n",
    "        train_loss, train_acc, n_batch = 0, 0, 0\n",
    "        for X_train_a, y_train_a in tl.iterate.minibatches(X_train, y_train, batch_size, shuffle=True):\n",
    "            err, ac = sess.run([cost_test, acc], feed_dict={x: X_train_a, y_: y_train_a})\n",
    "            train_loss += err\n",
    "            train_acc += ac\n",
    "            n_batch += 1\n",
    "        print(\"   train loss: %f\" % (train_loss / n_batch))\n",
    "        print(\"   train acc: %f\" % (train_acc / n_batch))\n",
    "        val_loss, val_acc, n_batch = 0, 0, 0\n",
    "#         for X_val_a, y_val_a in tl.iterate.minibatches(X_val, y_val, batch_size, shuffle=True):\n",
    "#             err, ac = sess.run([cost_test, acc], feed_dict={x: X_val_a, y_: y_val_a})\n",
    "#             val_loss += err\n",
    "#             val_acc += ac\n",
    "#             n_batch += 1\n",
    "#         print(\"   val loss: %f\" % (val_loss / n_batch))\n",
    "#         print(\"   val acc: %f\" % (val_acc / n_batch))\n",
    "        print('Evaluation')\n",
    "        test_loss, test_acc, n_batch = 0, 0, 0\n",
    "        for X_test_a, y_test_a in tl.iterate.minibatches(X_test, y_test, batch_size, shuffle=True):\n",
    "            err, ac = sess.run([cost_test, acc], feed_dict={x: X_test_a, y_: y_test_a})\n",
    "            test_loss += err\n",
    "            test_acc += ac\n",
    "            n_batch += 1\n",
    "        print(\"   test loss: %f\" % (test_loss / n_batch))\n",
    "        print(\"   test acc: %f\" % (test_acc / n_batch))\n",
    "\n",
    "\n",
    "print('Evaluation')\n",
    "test_loss, test_acc, n_batch = 0, 0, 0\n",
    "for X_test_a, y_test_a in tl.iterate.minibatches(X_test, y_test, batch_size, shuffle=True):\n",
    "    err, ac = sess.run([cost_test, acc], feed_dict={x: X_test_a, y_: y_test_a})\n",
    "    test_loss += err\n",
    "    test_acc += ac\n",
    "    n_batch += 1\n",
    "\n",
    "print(\"   test loss: %f\" % (test_loss / n_batch))\n",
    "print(\"   test acc: %f\" % (test_acc / n_batch))"
   ]
  },
  {
   "cell_type": "code",
   "execution_count": 31,
   "metadata": {},
   "outputs": [
    {
     "name": "stdout",
     "output_type": "stream",
     "text": [
      "predict_x: (464, 20, 201, 2)\n",
      "predict_x: (500, 20, 201, 2)\n",
      "predict_y: (500,)\n",
      "batch predict\n",
      "batch predict\n",
      "batch predict\n",
      "batch predict\n",
      "batch predict\n"
     ]
    },
    {
     "ename": "ValueError",
     "evalue": "cannot reshape array of size 500 into shape (3)",
     "output_type": "error",
     "traceback": [
      "\u001b[0;31m\u001b[0m",
      "\u001b[0;31mValueError\u001b[0mTraceback (most recent call last)",
      "\u001b[0;32m<ipython-input-31-17f672e08501>\u001b[0m in \u001b[0;36m<module>\u001b[0;34m()\u001b[0m\n\u001b[1;32m     22\u001b[0m     \u001b[0mpred\u001b[0m\u001b[0;34m.\u001b[0m\u001b[0mappend\u001b[0m\u001b[0;34m(\u001b[0m\u001b[0msess\u001b[0m\u001b[0;34m.\u001b[0m\u001b[0mrun\u001b[0m\u001b[0;34m(\u001b[0m\u001b[0mprediction\u001b[0m\u001b[0;34m,\u001b[0m \u001b[0mfeed_dict\u001b[0m\u001b[0;34m=\u001b[0m\u001b[0;34m{\u001b[0m\u001b[0mx\u001b[0m\u001b[0;34m:\u001b[0m \u001b[0mX_train_a\u001b[0m\u001b[0;34m}\u001b[0m\u001b[0;34m)\u001b[0m\u001b[0;34m)\u001b[0m\u001b[0;34m\u001b[0m\u001b[0m\n\u001b[1;32m     23\u001b[0m \u001b[0;34m\u001b[0m\u001b[0m\n\u001b[0;32m---> 24\u001b[0;31m \u001b[0mpred\u001b[0m \u001b[0;34m=\u001b[0m \u001b[0mnp\u001b[0m\u001b[0;34m.\u001b[0m\u001b[0marray\u001b[0m\u001b[0;34m(\u001b[0m\u001b[0mpred\u001b[0m\u001b[0;34m)\u001b[0m\u001b[0;34m.\u001b[0m\u001b[0mreshape\u001b[0m\u001b[0;34m(\u001b[0m\u001b[0;34m[\u001b[0m\u001b[0;34m-\u001b[0m\u001b[0;36m1\u001b[0m\u001b[0;34m,\u001b[0m \u001b[0;36m3\u001b[0m\u001b[0;34m]\u001b[0m\u001b[0;34m)\u001b[0m\u001b[0;34m[\u001b[0m\u001b[0;34m:\u001b[0m\u001b[0mtotal_predict_count\u001b[0m\u001b[0;34m]\u001b[0m\u001b[0;34m\u001b[0m\u001b[0m\n\u001b[0m",
      "\u001b[0;31mValueError\u001b[0m: cannot reshape array of size 500 into shape (3)"
     ]
    }
   ],
   "source": [
    "# 预测与实际图对比\n",
    "#fig, axs = plt.subplots(1,1,figsize = (25,8))\n",
    "predict_data = get_data_delta(rawdf)\n",
    "predict_features = compile_data(predict_data)\n",
    "_ys = predict_data.loc[:, 'expr03'].values\n",
    "\n",
    "#predict_y = sess.run([y2], feed_dict={p_x: predict_x})\n",
    "predict_features.shape\n",
    "predict_x, predict_dump = get_data_batch_2d(predict_features, _ys, 20)\n",
    "rest = batch_size - (predict_x.shape[0] % batch_size)\n",
    "print('predict_x:', predict_x.shape)\n",
    "total_predict_count = predict_x.shape[0]\n",
    "predict_x = np.concatenate([predict_x, predict_x[:rest]])\n",
    "predict_dump = np.concatenate([predict_dump, predict_dump[:rest]])\n",
    "after_fit = predict_x\n",
    "print('predict_x:', predict_x.shape)\n",
    "print('predict_y:', predict_dump.shape)\n",
    "pred = []\n",
    "for X_train_a, y_train_a in tl.iterate.minibatches(predict_x, predict_dump, batch_size, shuffle=False):\n",
    "    print('batch predict')\n",
    "    #pred.append(sess.run(prediction, feed_dict={x: X_train_a}))\n",
    "    pred.append(sess.run(prediction, feed_dict={x: X_train_a}))\n",
    "\n",
    "pred = np.array(pred).reshape([-1, 3])[:total_predict_count]"
   ]
  },
  {
   "cell_type": "code",
   "execution_count": null,
   "metadata": {},
   "outputs": [],
   "source": [
    "pred[0].shape"
   ]
  },
  {
   "cell_type": "code",
   "execution_count": 30,
   "metadata": {},
   "outputs": [
    {
     "data": {
      "text/plain": [
       "array([[-0.04272611, -1.5115213 ,  1.3151474 ],\n",
       "       [-0.04272611, -1.5115213 ,  1.3151474 ],\n",
       "       [-0.05368716, -1.5344    ,  1.3601505 ],\n",
       "       [-0.21257105, -1.7566289 ,  1.403388  ],\n",
       "       [ 0.26456302, -0.75185716,  1.9644141 ]], dtype=float32)"
      ]
     },
     "execution_count": 30,
     "metadata": {},
     "output_type": "execute_result"
    }
   ],
   "source": [
    "pred[:5]"
   ]
  },
  {
   "cell_type": "code",
   "execution_count": 23,
   "metadata": {},
   "outputs": [
    {
     "name": "stdout",
     "output_type": "stream",
     "text": [
      "X_test: (100, 20, 201, 2)\n",
      "predict_x: (500, 20, 201, 2)\n",
      "pred: (464, 3)\n"
     ]
    }
   ],
   "source": [
    "print('X_test:', X_test.shape)\n",
    "print('predict_x:', predict_x.shape)\n",
    "print('pred:', pred.shape)"
   ]
  },
  {
   "cell_type": "code",
   "execution_count": 24,
   "metadata": {},
   "outputs": [],
   "source": [
    "def analy_pred_value(pred, i_quota, upchance=0.3):\n",
    "    pred_chance = pred[:, 1] > pred[:, 2]\n",
    "    fig, axs = plt.subplots(1, 1, figsize=(25, 8))\n",
    "    ax1 = axs\n",
    "    pred_raw_data = i_quota.reset_index(drop=True)\n",
    "\n",
    "    pred_raw_data.loc[:, 'chance'] = pd.Series(pred_chance)\n",
    "    tmp_df = pred_raw_data.loc[:, ['close', 'chance']].reset_index(drop=True)\n",
    "    #tmp_df = tmp_df.reset_index(drop = True)\n",
    "    #tmp_df['predict_y'] = np.array(prediction)\n",
    "\n",
    "#     upchance = 0.3 #标记上涨概率大于0.2和下跌概率为-0.2的机会\n",
    "\n",
    "    ax1.plot(tmp_df.close)\n",
    "    ax1.plot(tmp_df.loc[tmp_df.chance > upchance, :].index,\n",
    "             tmp_df.loc[tmp_df.chance > upchance, :].close, 'r^')\n",
    "    ax1.plot(tmp_df.loc[tmp_df.chance < -upchance, :].index,\n",
    "             tmp_df.loc[tmp_df.chance < -upchance, :].close, 'bv')"
   ]
  },
  {
   "cell_type": "code",
   "execution_count": 25,
   "metadata": {},
   "outputs": [],
   "source": [
    "def analy_pred_dir(pred, i_quota, upchance=0.3):\n",
    "    pred_chance_up = np.logical_and(pred[:, 1] > pred[:, 2], pred[:, 1] > pred[:, 0])\n",
    "    pred_chance_down = np.logical_and(pred[:, 2] > pred[:, 1], pred[:, 2] > pred[:, 0])\n",
    "    fig, axs = plt.subplots(1, 1, figsize=(25, 8))\n",
    "    ax1 = axs\n",
    "    pred_raw_data = i_quota.reset_index(drop=True)\n",
    "\n",
    "    # pred_raw_data.loc[:,'chance']=pd.Series(pred_chance)\n",
    "    tmp_df = pred_raw_data  # pred_raw_data.loc[:,['close', 'chance']].reset_index(drop=True)\n",
    "    #tmp_df = tmp_df.reset_index(drop = True)\n",
    "    #tmp_df['predict_y'] = np.array(prediction)\n",
    "\n",
    "    # upchance = 0.3 #标记上涨概率大于0.2和下跌概率为-0.2的机会\n",
    "\n",
    "    ax1.plot(tmp_df.close)\n",
    "    ax1.plot(tmp_df.loc[pred_chance_up == True, :].index,\n",
    "             tmp_df.loc[pred_chance_up == True, :].close, 'r^')\n",
    "    ax1.plot(tmp_df.loc[pred_chance_down == True, :].index,\n",
    "             tmp_df.loc[pred_chance_down == True, :].close, 'bv')"
   ]
  },
  {
   "cell_type": "code",
   "execution_count": 33,
   "metadata": {},
   "outputs": [
    {
     "data": {
      "image/png": "[encoded data removed]",
      "text/plain": [
       "<Figure size 1800x576 with 1 Axes>"
      ]
     },
     "metadata": {},
     "output_type": "display_data"
    }
   ],
   "source": [
    "analy_pred_value(pred, rawdf, upchance = 0.98)"
   ]
  },
  {
   "cell_type": "code",
   "execution_count": 27,
   "metadata": {},
   "outputs": [
    {
     "data": {
      "image/png": "[encoded data removed]",
      "text/plain": [
       "<Figure size 1800x576 with 1 Axes>"
      ]
     },
     "metadata": {},
     "output_type": "display_data"
    }
   ],
   "source": [
    "analy_pred_dir(pred, rawdf, upchance = 2.5)"
   ]
  },
  {
   "cell_type": "markdown",
   "metadata": {},
   "source": [
    "## 用之前的模型预测中证500"
   ]
  },
  {
   "cell_type": "code",
   "execution_count": null,
   "metadata": {},
   "outputs": [],
   "source": [
    "begdate = 20180101\n",
    "enddate = 20180505\n",
    "code = '000300.SH'\n",
    "predict_period=5\n",
    "\n",
    "DB = gcrl.db('internal')\n",
    "DB.query_init({'code': code, 'begin': begdate, 'end': enddate, 'fields': '*'})\n",
    "DB.query.update({'dtype':'cycle', 'n_cycle': 1, 'freq': pycoraldb.D})\n",
    "rawdf = DB.getBar(4)\n",
    "# gclean = gfc.clean_rdata(rawdf)\n",
    "# clean_df = gclean.remove_by_time('stock')\n",
    "i_quota2 = rawdf.copy()\n",
    "i_quota2 = rawdf[['open', 'high', 'low', 'close', 'pre_close']]\n",
    "i_quota2['close'] = rawdf['new_price']\n",
    "\n",
    "# begdate = 20050101\n",
    "# enddate = 20180505\n",
    "# code = '000300.SH'\n",
    "# predict_period = 5\n",
    "# qf2 = QuoteFeed(universe_ticker=code,\n",
    "#                 begin_day=begdate,\n",
    "#                 end_day=enddate,\n",
    "#                 tracking_freq=86400,\n",
    "#                 is_index=True,\n",
    "#                 adjust_method='forward')\n",
    "# qf2.load_feed()\n",
    "# i_quota2 = qf2.get_index_quote()"
   ]
  },
  {
   "cell_type": "code",
   "execution_count": null,
   "metadata": {},
   "outputs": [],
   "source": [
    "predict_x2, predict_dump2 = get_trainning_data(i_quota2, 100,20)"
   ]
  },
  {
   "cell_type": "code",
   "execution_count": null,
   "metadata": {},
   "outputs": [],
   "source": [
    "# predict_features2.shape\n",
    "# predict_x2, predict_dump2=get_data_batch_2d(predict_features2,_ys2,20)\n",
    "# #predict_y = sess.run([y2], feed_dict={p_x: predict_x})\n",
    "# pred2=[]\n",
    "# rest = batch_size - (predict_x2.shape[0] % batch_size)\n",
    "# print('predict_x:', predict_x2.shape)\n",
    "#\n",
    "# predict_x2=np.concatenate([predict_x2, predict_x2[:rest]])\n",
    "# predict_dump2=np.concatenate([predict_dump2, predict_dump2[:rest]])\n",
    "# after_fit2=predict_x2\n",
    "# print('predict_x:', predict_x2.shape)\n",
    "# print('predict_y:', predict_dump2.shape)\n",
    "pred2 = []\n",
    "total_predict_count2 = predict_x2.shape[0]\n",
    "for X_train_a, y_train_a in tl.iterate.minibatches(predict_x2, predict_dump2, batch_size, shuffle=False):\n",
    "    pred2.append(sess.run(y2, feed_dict={x: X_train_a}))\n",
    "\n",
    "pred2 = np.array(pred2).reshape([-1, 2])[:total_predict_count2]"
   ]
  },
  {
   "cell_type": "code",
   "execution_count": null,
   "metadata": {},
   "outputs": [],
   "source": [
    "pred2.shape"
   ]
  },
  {
   "cell_type": "code",
   "execution_count": null,
   "metadata": {},
   "outputs": [],
   "source": [
    "analy_pred_value(pred2, i_quota2, upchance=0.4)"
   ]
  },
  {
   "cell_type": "code",
   "execution_count": null,
   "metadata": {},
   "outputs": [],
   "source": []
  },
  {
   "cell_type": "code",
   "execution_count": null,
   "metadata": {},
   "outputs": [],
   "source": []
  }
 ],
 "metadata": {
  "kernelspec": {
   "display_name": "Python 3",
   "language": "python",
   "name": "python3"
  },
  "language_info": {
   "codemirror_mode": {
    "name": "ipython",
    "version": 3
   },
   "file_extension": ".py",
   "mimetype": "text/x-python",
   "name": "python",
   "nbconvert_exporter": "python",
   "pygments_lexer": "ipython3",
   "version": "3.6.5"
  }
 },
 "nbformat": 4,
 "nbformat_minor": 2
}
